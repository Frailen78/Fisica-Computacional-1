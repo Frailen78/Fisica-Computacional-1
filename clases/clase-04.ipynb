{
 "cells": [
  {
   "cell_type": "code",
   "execution_count": 9,
   "id": "a019fe96-42eb-4321-b0af-155ed77ca733",
   "metadata": {},
   "outputs": [
    {
     "name": "stdout",
     "output_type": "stream",
     "text": [
      "0.7539205910298206\n",
      "0.1904595942849283\n",
      "0.8281120339168951\n",
      "0.2728444267611505\n",
      "0.8893573218580527\n"
     ]
    }
   ],
   "source": [
    "a = rand(10)\n",
    "for i in 1:10\n",
    "    if mod(i,2) != 0\n",
    "        println(a[i])\n",
    "    end\n",
    "end\n",
    "print(\"Hola\")"
   ]
  }
 ],
 "metadata": {
  "kernelspec": {
   "display_name": "Julia 1.10.0",
   "language": "julia",
   "name": "julia-1.10"
  },
  "language_info": {
   "file_extension": ".jl",
   "mimetype": "application/julia",
   "name": "julia",
   "version": "1.10.4"
  }
 },
 "nbformat": 4,
 "nbformat_minor": 5
}
