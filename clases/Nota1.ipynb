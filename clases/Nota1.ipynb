{
 "cells": [
  {
   "cell_type": "code",
   "execution_count": 24,
   "metadata": {},
   "outputs": [],
   "source": [
    "a = 1;\n",
    "b = 2;\n",
    "pseudo0 = 1e-10\n",
    "f(x) = x^3 + 4x^2 - 10\n",
    "\n",
    "\n",
    "\n",
    "iter = 0\n",
    "\n",
    "\n",
    "if  f(a)*f(b) > 0\n",
    "    print(\"No se encontro una raiz\")\n",
    "else\n",
    "    for i in 1:100\n",
    "            \n",
    "        global iter = iter + 1\n",
    "        global m = (a + b)/2 \n",
    "    \n",
    "        if f(a) * f(m) < 0\n",
    "            b = m\n",
    "        else\n",
    "            a = m \n",
    "        end\n",
    "            \n",
    "        if abs(f(m)) < pseudo0\n",
    "            print(m)\n",
    "               \n",
    "            break\n",
    "        end\n",
    "\n",
    "        if iter == 13\n",
    "            break\n",
    "        end\n",
    "    \n",
    "    end \n",
    "end\n",
    "\n"
   ]
  },
  {
   "cell_type": "code",
   "execution_count": 25,
   "metadata": {},
   "outputs": [
    {
     "data": {
      "text/plain": [
       "1.3651123046875"
      ]
     },
     "execution_count": 25,
     "metadata": {},
     "output_type": "execute_result"
    }
   ],
   "source": [
    "a"
   ]
  },
  {
   "cell_type": "code",
   "execution_count": 26,
   "metadata": {},
   "outputs": [
    {
     "data": {
      "text/plain": [
       "1.365234375"
      ]
     },
     "execution_count": 26,
     "metadata": {},
     "output_type": "execute_result"
    }
   ],
   "source": [
    "b"
   ]
  },
  {
   "cell_type": "code",
   "execution_count": 27,
   "metadata": {},
   "outputs": [
    {
     "data": {
      "text/plain": [
       "1.3651123046875"
      ]
     },
     "execution_count": 27,
     "metadata": {},
     "output_type": "execute_result"
    }
   ],
   "source": [
    "m"
   ]
  },
  {
   "cell_type": "code",
   "execution_count": 28,
   "metadata": {},
   "outputs": [
    {
     "data": {
      "text/plain": [
       "-0.0019436590100667672"
      ]
     },
     "execution_count": 28,
     "metadata": {},
     "output_type": "execute_result"
    }
   ],
   "source": [
    "f(m)"
   ]
  },
  {
   "cell_type": "code",
   "execution_count": null,
   "metadata": {},
   "outputs": [],
   "source": []
  }
 ],
 "metadata": {
  "kernelspec": {
   "display_name": "Julia 1.10.5",
   "language": "julia",
   "name": "julia-1.10"
  },
  "language_info": {
   "file_extension": ".jl",
   "mimetype": "application/julia",
   "name": "julia",
   "version": "1.10.5"
  }
 },
 "nbformat": 4,
 "nbformat_minor": 2
}
