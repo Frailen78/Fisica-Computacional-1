{
 "cells": [
  {
   "cell_type": "code",
   "execution_count": 17,
   "metadata": {},
   "outputs": [
    {
     "data": {
      "text/plain": [
       "Laplace (generic function with 1 method)"
      ]
     },
     "metadata": {},
     "output_type": "display_data"
    }
   ],
   "source": [
    "#Metodo de la inveza\n",
    "A = [2 1 1; 1 -1 -2; 3 0 1]\n",
    "V = [0, 5, 7]\n",
    "INVA = inv(A)\n",
    "R = INVA * V\n",
    "function Laplace(M)\n",
    "    if size(M,1) == 1\n",
    "        return M[1,1]\n",
    "    elseif size(M,1) == 2\n",
    "        return M[2,2] * M[1,1] - M[1,2] * M[2,1]\n",
    "    else\n",
    "        det = 0\n",
    "        for i in 1:size(M,1)\n",
    "            m = M[2:end,[1:i-1;i+1:end]]\n",
    "            cof = (-1)^(1+i) * M[1,i] * Laplace(m)\n",
    "            det += cof\n",
    "        end\n",
    "        return det\n",
    "    end\n",
    "end\n"
   ]
  },
  {
   "cell_type": "code",
   "execution_count": 24,
   "metadata": {},
   "outputs": [
    {
     "ename": "MethodError",
     "evalue": "MethodError: no method matching (::Colon)(::Int64, ::Tuple{Int64, Int64})\n\nClosest candidates are:\n  (::Colon)(::T, ::Any, !Matched::T) where T<:Real\n   @ Base range.jl:50\n  (::Colon)(::A, ::Any, !Matched::C) where {A<:Real, C<:Real}\n   @ Base range.jl:10\n  (::Colon)(::T, ::Any, !Matched::T) where T\n   @ Base range.jl:49\n  ...\n",
     "output_type": "error",
     "traceback": [
      "MethodError: no method matching (::Colon)(::Int64, ::Tuple{Int64, Int64})\n",
      "\n",
      "Closest candidates are:\n",
      "  (::Colon)(::T, ::Any, !Matched::T) where T<:Real\n",
      "   @ Base range.jl:50\n",
      "  (::Colon)(::A, ::Any, !Matched::C) where {A<:Real, C<:Real}\n",
      "   @ Base range.jl:10\n",
      "  (::Colon)(::T, ::Any, !Matched::T) where T\n",
      "   @ Base range.jl:49\n",
      "  ...\n",
      "\n",
      "\n",
      "Stacktrace:\n",
      " [1] top-level scope\n",
      "   @ ~/Univercidad/Compu 1.2/practica/jl_notebook_cell_df34fa98e69747e1a8f8a730347b8e2f_W1sZmlsZQ==.jl:3"
     ]
    }
   ],
   "source": [
    "Det = Laplace(A)\n",
    "#for i in 1:size(A,1)\n",
    "for j in 1:size(A)\n",
    "    A[1,j] = 1\n",
    "end\n",
    "#end"
   ]
  },
  {
   "cell_type": "code",
   "execution_count": null,
   "metadata": {},
   "outputs": [],
   "source": []
  }
 ],
 "metadata": {
  "kernelspec": {
   "display_name": "Julia 1.10.5",
   "language": "julia",
   "name": "julia-1.10"
  },
  "language_info": {
   "file_extension": ".jl",
   "mimetype": "application/julia",
   "name": "julia",
   "version": "1.10.5"
  }
 },
 "nbformat": 4,
 "nbformat_minor": 2
}
