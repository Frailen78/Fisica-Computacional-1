{
 "cells": [
  {
   "cell_type": "code",
   "execution_count": 105,
   "metadata": {},
   "outputs": [
    {
     "data": {
      "text/plain": [
       "NewRaMul (generic function with 2 methods)"
      ]
     },
     "execution_count": 105,
     "metadata": {},
     "output_type": "execute_result"
    }
   ],
   "source": [
    "function  NewRaMul(F,r0,tol)\n",
    "    norm = 0; v = zeros(2); \n",
    "    iter = 0\n",
    "    Jac = zeros(2,2)\n",
    "    for i in 1:100\n",
    "        Jac = [2*r0[1] 3; -5 2*r0[2]]\n",
    "        r0 = r0 - (inv(Jac) * F(r0[1],r0[2]))\n",
    "        v = F(r0[1],r0[2])\n",
    "        norm = sqrt(v[1]^2 + v[2]^2)\n",
    "        iter = iter + 1\n",
    "        if norm < tol\n",
    "            break\n",
    "        end\n",
    "    end\n",
    "    return r0, iter\n",
    "end"
   ]
  },
  {
   "cell_type": "code",
   "execution_count": 108,
   "metadata": {},
   "outputs": [
    {
     "data": {
      "text/plain": [
       "([0.745084331049225, -0.8517168867916901], 6)"
      ]
     },
     "execution_count": 108,
     "metadata": {},
     "output_type": "execute_result"
    }
   ],
   "source": [
    "F(x,y) = [x^2 + 3*y + 2 , y^2 - 5*x + 3]\n",
    "r0 = [2 , 2]\n",
    "h = NewRaMul(F,r0,1e-10)"
   ]
  }
 ],
 "metadata": {
  "kernelspec": {
   "display_name": "Julia 1.10.5",
   "language": "julia",
   "name": "julia-1.10"
  },
  "language_info": {
   "file_extension": ".jl",
   "mimetype": "application/julia",
   "name": "julia",
   "version": "1.10.5"
  }
 },
 "nbformat": 4,
 "nbformat_minor": 2
}
