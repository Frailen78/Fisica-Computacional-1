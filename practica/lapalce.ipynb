{
 "cells": [
  {
   "cell_type": "code",
   "execution_count": 11,
   "metadata": {},
   "outputs": [
    {
     "data": {
      "text/plain": [
       "2×2 Matrix{Float64}:\n",
       " 0.544124  0.494316\n",
       " 0.694373  0.804105"
      ]
     },
     "metadata": {},
     "output_type": "display_data"
    }
   ],
   "source": [
    "M = rand(2,2)\n",
    "function Laplace(M)\n",
    "    if size(M,1) == 1\n",
    "        return M[1,1]\n",
    "    elseif size(M,1) == 2\n",
    "        return M[2,2] * M[1,1] - M[1,2] * M[2,1]\n",
    "    else\n",
    "        det = 0\n",
    "        for i in 1:size(M,1)\n",
    "            m = M[2:end,[1:i-1;i+1:end]]\n",
    "            cof = (-1)^(1+i) * M[1,i] * Laplace(m)\n",
    "            det += cof\n",
    "        end\n",
    "        return det\n",
    "    end\n",
    "end\n",
    "M"
   ]
  },
  {
   "cell_type": "code",
   "execution_count": 12,
   "metadata": {},
   "outputs": [],
   "source": [
    "#\n",
    "for i in 1:size(M,1)\n",
    "    for j in 1:size(M,1)\n",
    "        M[i,j] = M[j,i]\n",
    "    end\n",
    "end"
   ]
  },
  {
   "cell_type": "code",
   "execution_count": 13,
   "metadata": {},
   "outputs": [
    {
     "data": {
      "text/plain": [
       "2×2 Matrix{Float64}:\n",
       " 0.544124  0.694373\n",
       " 0.694373  0.804105"
      ]
     },
     "metadata": {},
     "output_type": "display_data"
    }
   ],
   "source": [
    "M"
   ]
  },
  {
   "cell_type": "code",
   "execution_count": null,
   "metadata": {},
   "outputs": [],
   "source": []
  }
 ],
 "metadata": {
  "kernelspec": {
   "display_name": "Julia 1.10.5",
   "language": "julia",
   "name": "julia-1.10"
  },
  "language_info": {
   "file_extension": ".jl",
   "mimetype": "application/julia",
   "name": "julia",
   "version": "1.10.5"
  }
 },
 "nbformat": 4,
 "nbformat_minor": 2
}
